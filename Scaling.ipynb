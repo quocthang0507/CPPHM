{
  "nbformat": 4,
  "nbformat_minor": 0,
  "metadata": {
    "colab": {
      "name": "Scaling",
      "provenance": [],
      "collapsed_sections": []
    },
    "kernelspec": {
      "name": "python3",
      "display_name": "Python 3"
    }
  },
  "cells": [
    {
      "cell_type": "markdown",
      "metadata": {
        "id": "HhzoALkeat1g"
      },
      "source": [
        "Khi dữ liệu đầu vào có tỷ lệ khác nhau, tức là sử dụng các đơn vị đo khác nhau cho mỗi thuộc tính đầu vào. Vậy làm sao có thể đưa chúng về cùng một tỷ lệ, tức là bỏ qua đơn vị đo?\n",
        "\n",
        "Câu trả lời giải quyết vấn đề là `scaling`."
      ]
    },
    {
      "cell_type": "markdown",
      "metadata": {
        "id": "XXzZH34feCLE"
      },
      "source": [
        "Phương pháp chuẩn hóa (standardization):\n",
        "$$x'=\\frac{x - \\mu}{\\sigma}$$\n",
        "Trong đó: $x$ là giá trị ban đầu, $x'$ là giá trị mới sau chuẩn hóa, $\\mu$ là giá trị trung bình và $\\sigma$ là độ lệch chuẩn."
      ]
    },
    {
      "cell_type": "markdown",
      "metadata": {
        "id": "0ipk4p90fnJs"
      },
      "source": [
        "Như vậy, trước hết cần phải tính được $\\mu$ và $\\sigma$ của cột đó (toàn bộ dữ liệu của đặc trưng)."
      ]
    },
    {
      "cell_type": "markdown",
      "metadata": {
        "id": "HPsqApGNf-6D"
      },
      "source": [
        "Ví dụ, trong tập dữ liệu `cars.csv`, ở đặc trưng **weight** có giá trị trung bình là 1292.23, độ lệch chuẩn là 238.74. Suy ra giá trị 790 sẽ chuẩn hóa thành:\n",
        "$$\\frac{790-1292.23}{238.74}\\approx -2.1$$\n",
        "\n",
        "Tương tự, đặc trưng **volume** có giá trị trung bình là 1.61 và độ lệch chuẩn là 0.38. Giá trị 1 sẽ chuẩn hóa thành:\n",
        "$$\\frac{1.0-1.61}{0.38}\\approx -1.59$$"
      ]
    },
    {
      "cell_type": "markdown",
      "metadata": {
        "id": "q0kJ8AQDg4Oy"
      },
      "source": [
        "Phương thức `StandardScaler()` trong thư viện `sklearn` sẽ đảm nhiệm công việc đó."
      ]
    },
    {
      "cell_type": "code",
      "metadata": {
        "id": "xqYP7uldbATk"
      },
      "source": [
        "# Tải các thư viện cần thiết\n",
        "import pandas as pd\n",
        "from sklearn import linear_model as lm\n",
        "from sklearn.preprocessing import StandardScaler as ss"
      ],
      "execution_count": null,
      "outputs": []
    },
    {
      "cell_type": "code",
      "metadata": {
        "id": "ACPqwgSYbSyh"
      },
      "source": [
        "scale = ss()"
      ],
      "execution_count": null,
      "outputs": []
    },
    {
      "cell_type": "code",
      "metadata": {
        "colab": {
          "base_uri": "https://localhost:8080/"
        },
        "id": "Bo--wqtdbWPD",
        "outputId": "f87e4329-182a-43a5-ad29-bfc3d0f85302"
      },
      "source": [
        "# Tải dữ liệu về, lấy ra 5 dòng đầu tiên\n",
        "data = pd.read_csv('https://www.w3schools.com/python/cars.csv')\n",
        "print(data.head())"
      ],
      "execution_count": null,
      "outputs": [
        {
          "output_type": "stream",
          "text": [
            "          Car       Model  Volume  Weight  CO2\n",
            "0      Toyoty        Aygo    1000     790   99\n",
            "1  Mitsubishi  Space Star    1200    1160   95\n",
            "2       Skoda      Citigo    1000     929   95\n",
            "3        Fiat         500     900     865   90\n",
            "4        Mini      Cooper    1500    1140  105\n"
          ],
          "name": "stdout"
        }
      ]
    },
    {
      "cell_type": "code",
      "metadata": {
        "id": "5y9lI7V9bbxf"
      },
      "source": [
        "X = data[['Weight', 'Volume']]\n",
        "y = data['CO2']"
      ],
      "execution_count": null,
      "outputs": []
    },
    {
      "cell_type": "code",
      "metadata": {
        "colab": {
          "base_uri": "https://localhost:8080/"
        },
        "id": "ZwiFCzp7blRu",
        "outputId": "b28a1b31-ff06-4ea4-8dba-adfbd0dec24a"
      },
      "source": [
        "scaled = scale.fit_transform(X)\n",
        "print('Trước: \\n', X[:5])\n",
        "print('Sau: \\n', scaled[:5])"
      ],
      "execution_count": null,
      "outputs": [
        {
          "output_type": "stream",
          "text": [
            "Trước: \n",
            "    Weight  Volume\n",
            "0     790    1000\n",
            "1    1160    1200\n",
            "2     929    1000\n",
            "3     865     900\n",
            "4    1140    1500\n",
            "Sau: \n",
            " [[-2.10389253 -1.59336644]\n",
            " [-0.55407235 -1.07190106]\n",
            " [-1.52166278 -1.59336644]\n",
            " [-1.78973979 -1.85409913]\n",
            " [-0.63784641 -0.28970299]]\n"
          ],
          "name": "stdout"
        }
      ]
    },
    {
      "cell_type": "code",
      "metadata": {
        "colab": {
          "base_uri": "https://localhost:8080/"
        },
        "id": "3ieN8flQbshZ",
        "outputId": "70567fcd-00fc-4ddf-a0eb-5e25dc57ecc3"
      },
      "source": [
        "lr_1 = lm.LinearRegression()\n",
        "lr_1.fit(X, y)\n",
        "lr_2 = lm.LinearRegression()\n",
        "lr_2.fit(scaled, y)"
      ],
      "execution_count": null,
      "outputs": [
        {
          "output_type": "execute_result",
          "data": {
            "text/plain": [
              "LinearRegression(copy_X=True, fit_intercept=True, n_jobs=None, normalize=False)"
            ]
          },
          "metadata": {
            "tags": []
          },
          "execution_count": 6
        }
      ]
    },
    {
      "cell_type": "code",
      "metadata": {
        "colab": {
          "base_uri": "https://localhost:8080/"
        },
        "id": "H_KpWRpgcO47",
        "outputId": "8c2ffd4c-52e5-463e-e2c5-7e2cfbf0f6a2"
      },
      "source": [
        "print(lr_1.coef_)\n",
        "print(lr_2.coef_)\n",
        "print(lr_1.intercept_)\n",
        "print(lr_2.intercept_)"
      ],
      "execution_count": null,
      "outputs": [
        {
          "output_type": "stream",
          "text": [
            "[0.00755095 0.00780526]\n",
            "[1.80269333 2.99358608]\n",
            "79.69471929115937\n",
            "102.02777777777777\n"
          ],
          "name": "stdout"
        }
      ]
    },
    {
      "cell_type": "markdown",
      "metadata": {
        "id": "Yu9nauyZce5_"
      },
      "source": [
        "Dễ nhận thấy các giá trị khác nhau của hai mô hình, vậy phải kiểm chứng lại."
      ]
    },
    {
      "cell_type": "code",
      "metadata": {
        "id": "t-bCbb6PcrlV"
      },
      "source": [
        "def f_1(weight, volume):\n",
        "    return lr_1.intercept_ + lr_1.coef_[0] * weight + lr_1.coef_[1] * volume\n",
        "\n",
        "def f_2(weight, volume):\n",
        "    return lr_2.intercept_ + lr_2.coef_[0] * weight + lr_2.coef_[1] * volume"
      ],
      "execution_count": null,
      "outputs": []
    },
    {
      "cell_type": "code",
      "metadata": {
        "colab": {
          "base_uri": "https://localhost:8080/"
        },
        "id": "MVTx7aJ5c5MP",
        "outputId": "6c898843-393e-4b1f-8e41-fe99cc919107"
      },
      "source": [
        "# Lấy dữ liệu đầu tiên trước khi biến đổi\n",
        "print(f_1(790, 1000))\n",
        "# Lấy dữ liệu đầu tiên sau khi biến đổi\n",
        "print(f_2(-2.10389253, -1.59336644))\n",
        "# Nếu lấy dữ liệu trước khi biển đổi vào hàm thứ hai\n",
        "print(f_2(790, 1000))"
      ],
      "execution_count": null,
      "outputs": [
        {
          "output_type": "stream",
          "text": [
            "93.46522516244404\n",
            "93.46522516073962\n",
            "4519.741585094638\n"
          ],
          "name": "stdout"
        }
      ]
    },
    {
      "cell_type": "markdown",
      "metadata": {
        "id": "Pzh71BNvdcLR"
      },
      "source": [
        "Hai dữ liệu chỉ khác nhau rất nhỏ, nguyên nhân là do trong `scale.fit_transform()` đã làm tròn dữ liệu. *Một điều lưu ý là đối với mô hình sử dụng dữ liệu đã được chuẩn hóa, dữ liệu đầu vào mới cần phải được chuẩn hóa theo đúng tỉ lệ.*"
      ]
    }
  ]
}