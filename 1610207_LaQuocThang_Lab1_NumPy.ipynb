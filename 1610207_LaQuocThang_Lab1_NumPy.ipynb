{
  "nbformat": 4,
  "nbformat_minor": 0,
  "metadata": {
    "colab": {
      "name": "1610207_LaQuocThang_Lab1_NumPy",
      "provenance": [],
      "collapsed_sections": [
        "aiec9jX5_Nhk",
        "wjQ_rIdF_UNt",
        "RXISvL6N5ed8"
      ]
    },
    "kernelspec": {
      "name": "python3",
      "display_name": "Python 3"
    }
  },
  "cells": [
    {
      "cell_type": "markdown",
      "metadata": {
        "id": "ZQdx9jCN-5AS"
      },
      "source": [
        "# Lab1_NumPy"
      ]
    },
    {
      "cell_type": "markdown",
      "metadata": {
        "id": "o4VH3O3c3IWg"
      },
      "source": [
        "1.   https://numpy.org/doc/stable/user/quickstart.html\n",
        "2.   https://www.w3schools.com/python/numpy_intro.asp\n",
        "\n"
      ]
    },
    {
      "cell_type": "markdown",
      "metadata": {
        "id": "X1SXvpzj4aA4"
      },
      "source": [
        "* NumPy được tạo ra vào năm 2005 bởi Travis Oliphant. NumPy viết tắt của Numerical Python.\n",
        "* NumPy cung cấp mảng các đối tượng và thực thi nhanh hơn so với danh sách truyền thống trong Python."
      ]
    },
    {
      "cell_type": "markdown",
      "metadata": {
        "id": "IEm_ganH_ju0"
      },
      "source": [
        "Tìm hiểu một số thao tác cơ bản trong NumPy:\n",
        "* Tạo mảng *n*-chiều\n",
        "* Các thuộc tính của mảng\n",
        "* Biến đổi mảng\n",
        "* Các phép toán với mảng\n",
        "* ..."
      ]
    },
    {
      "cell_type": "markdown",
      "metadata": {
        "id": "aiec9jX5_Nhk"
      },
      "source": [
        "## The Basics"
      ]
    },
    {
      "cell_type": "markdown",
      "metadata": {
        "id": "UW0W8pbsAWlS"
      },
      "source": [
        "- Mảng trong NumPy là mảng đa chiều thuần nhất, nghĩa là tất cả các phần tử nếu có kiểu dữ liệu giống nhau.\n",
        "- Lớp đại diện cho mảng có tên là `ndarray`, thường được biết đến tên là `array`. Tuy nhiên, `array` trong numpy là `numpy.array` khác với `array` trong thư viện chuẩn của Python là `array.array`.\n",
        "- Những thuộc tính của `ndarray` là:\n",
        "\n",
        "> **ndarray.ndim**: số chiều (dimensions/ axes) của mảng.\n",
        "\n",
        "> **ndarray.size**: số phần tử có trong mảng\n",
        "\n",
        "> **ndarray.dtype**: kiểu dữ liệu của đối tượng trong mảng, ví dụ: numpy.int32, numpy.int16, and numpy.float64\n",
        "\n",
        "\n",
        "\n"
      ]
    },
    {
      "cell_type": "code",
      "metadata": {
        "id": "MQqjZmKmz6e7"
      },
      "source": [
        "import numpy as np"
      ],
      "execution_count": null,
      "outputs": []
    },
    {
      "cell_type": "code",
      "metadata": {
        "id": "HGv1h3By0y-D",
        "colab": {
          "base_uri": "https://localhost:8080/"
        },
        "outputId": "583c0c72-72fe-42d4-daa8-b9af1edba3ed"
      },
      "source": [
        "# Tạo một chuỗi giá trị từ 0 đến 14, \n",
        "# sau đó chia thành 3 hàng 5 cột\n",
        "# Đối tượng numpy.ndarray\n",
        "a = np.arange(15).reshape(3, 5)\n",
        "print(a)"
      ],
      "execution_count": null,
      "outputs": [
        {
          "output_type": "stream",
          "text": [
            "[[ 0  1  2  3  4]\n",
            " [ 5  6  7  8  9]\n",
            " [10 11 12 13 14]]\n"
          ],
          "name": "stdout"
        }
      ]
    },
    {
      "cell_type": "code",
      "metadata": {
        "id": "NJz5LCPM145a",
        "colab": {
          "base_uri": "https://localhost:8080/"
        },
        "outputId": "3deec73c-710a-4a80-cfdc-165b0e31d0a7"
      },
      "source": [
        "# Trả về kích thước của mảng\n",
        "a.shape"
      ],
      "execution_count": null,
      "outputs": [
        {
          "output_type": "execute_result",
          "data": {
            "text/plain": [
              "(3, 5)"
            ]
          },
          "metadata": {
            "tags": []
          },
          "execution_count": 3
        }
      ]
    },
    {
      "cell_type": "code",
      "metadata": {
        "id": "GJ4uhAB-2NXK",
        "colab": {
          "base_uri": "https://localhost:8080/"
        },
        "outputId": "4af98614-f877-42e1-db98-8992b46201cd"
      },
      "source": [
        "# Trả về số chiều của mảng\n",
        "a.ndim"
      ],
      "execution_count": null,
      "outputs": [
        {
          "output_type": "execute_result",
          "data": {
            "text/plain": [
              "2"
            ]
          },
          "metadata": {
            "tags": []
          },
          "execution_count": 4
        }
      ]
    },
    {
      "cell_type": "code",
      "metadata": {
        "id": "GOrHP5Wg2Wvs",
        "colab": {
          "base_uri": "https://localhost:8080/"
        },
        "outputId": "d30a1e75-6c31-4370-c7d6-398b19739d97"
      },
      "source": [
        "# Trả về kiểu dữ liệu\n",
        "a.dtype.name"
      ],
      "execution_count": null,
      "outputs": [
        {
          "output_type": "execute_result",
          "data": {
            "application/vnd.google.colaboratory.intrinsic+json": {
              "type": "string"
            },
            "text/plain": [
              "'int64'"
            ]
          },
          "metadata": {
            "tags": []
          },
          "execution_count": 5
        }
      ]
    },
    {
      "cell_type": "code",
      "metadata": {
        "id": "ZINyMyVS2gC9",
        "colab": {
          "base_uri": "https://localhost:8080/"
        },
        "outputId": "ff71b8e2-7bbc-4c6d-8a49-cc5f5f90be8c"
      },
      "source": [
        "# Trả về kích thước (bytes) của một phần tử trong mảng\n",
        "# int64 là 8 bytes\n",
        "a.itemsize"
      ],
      "execution_count": null,
      "outputs": [
        {
          "output_type": "execute_result",
          "data": {
            "text/plain": [
              "8"
            ]
          },
          "metadata": {
            "tags": []
          },
          "execution_count": 6
        }
      ]
    },
    {
      "cell_type": "code",
      "metadata": {
        "id": "VCV7JqWG3BdP",
        "colab": {
          "base_uri": "https://localhost:8080/"
        },
        "outputId": "8a358906-1177-49ae-e1b6-99392d219823"
      },
      "source": [
        "# Trả về số phần tử của mảng\n",
        "a.size"
      ],
      "execution_count": null,
      "outputs": [
        {
          "output_type": "execute_result",
          "data": {
            "text/plain": [
              "15"
            ]
          },
          "metadata": {
            "tags": []
          },
          "execution_count": 7
        }
      ]
    },
    {
      "cell_type": "code",
      "metadata": {
        "id": "42oIjuF23GNa",
        "colab": {
          "base_uri": "https://localhost:8080/"
        },
        "outputId": "9c504194-f4f1-4368-dd94-4c393b0c39c3"
      },
      "source": [
        "# Trả về kiểu của mảng\n",
        "type(a)"
      ],
      "execution_count": null,
      "outputs": [
        {
          "output_type": "execute_result",
          "data": {
            "text/plain": [
              "numpy.ndarray"
            ]
          },
          "metadata": {
            "tags": []
          },
          "execution_count": 8
        }
      ]
    },
    {
      "cell_type": "markdown",
      "metadata": {
        "id": "BP8FDbBo3EpX"
      },
      "source": [
        ""
      ]
    },
    {
      "cell_type": "markdown",
      "metadata": {
        "id": "wjQ_rIdF_UNt"
      },
      "source": [
        "## Array Creations"
      ]
    },
    {
      "cell_type": "markdown",
      "metadata": {
        "id": "FRsUOKjBCmoy"
      },
      "source": [
        "Các cách tạo một mảng trong NumPy:\n",
        "- Tạo một mảng bằng danh sách Python chính quy.\n",
        "- Tạo một mảng bằng bộ (tuple)"
      ]
    },
    {
      "cell_type": "markdown",
      "metadata": {
        "id": "LwUer0jCDTlr"
      },
      "source": [
        "### Mảng một chiều"
      ]
    },
    {
      "cell_type": "code",
      "metadata": {
        "id": "Mu5dkRo73LpC",
        "colab": {
          "base_uri": "https://localhost:8080/"
        },
        "outputId": "9e0ec264-d707-44aa-c2d4-0143c8ab0d7c"
      },
      "source": [
        "# Tạo ra một mảng mới\n",
        "b = np.array([1, 2, 3])\n",
        "print(b)"
      ],
      "execution_count": null,
      "outputs": [
        {
          "output_type": "stream",
          "text": [
            "[1 2 3]\n"
          ],
          "name": "stdout"
        }
      ]
    },
    {
      "cell_type": "markdown",
      "metadata": {
        "id": "-f9tNiRgDZGk"
      },
      "source": [
        "### Mảng hai chiều"
      ]
    },
    {
      "cell_type": "code",
      "metadata": {
        "id": "4yfX-WVj7VD0",
        "colab": {
          "base_uri": "https://localhost:8080/"
        },
        "outputId": "2b6d3b6c-f77e-4190-d28a-36e01733b542"
      },
      "source": [
        "# Phần tử đầu là số thực nên các đối tượng còn lại sẽ chuyển thành số thực\n",
        "c = np.array([(1., 2, 3), (2, 4, 6)])\n",
        "# c = np.array([[1., 2, 3], [2, 4, 6]])\n",
        "print(c)"
      ],
      "execution_count": null,
      "outputs": [
        {
          "output_type": "stream",
          "text": [
            "[[1. 2. 3.]\n",
            " [2. 4. 6.]]\n"
          ],
          "name": "stdout"
        }
      ]
    },
    {
      "cell_type": "code",
      "metadata": {
        "id": "53bdfYe_7k0C",
        "colab": {
          "base_uri": "https://localhost:8080/",
          "height": 35
        },
        "outputId": "aafb4a65-cfb5-4f07-8fd2-29464d36a634"
      },
      "source": [
        "c.dtype.name"
      ],
      "execution_count": null,
      "outputs": [
        {
          "output_type": "execute_result",
          "data": {
            "application/vnd.google.colaboratory.intrinsic+json": {
              "type": "string"
            },
            "text/plain": [
              "'float64'"
            ]
          },
          "metadata": {
            "tags": []
          },
          "execution_count": 11
        }
      ]
    },
    {
      "cell_type": "code",
      "metadata": {
        "id": "QkALobc27p5H",
        "colab": {
          "base_uri": "https://localhost:8080/"
        },
        "outputId": "5c7608ff-07f9-40d6-b85d-78bb5a718e36"
      },
      "source": [
        "c.itemsize"
      ],
      "execution_count": null,
      "outputs": [
        {
          "output_type": "execute_result",
          "data": {
            "text/plain": [
              "8"
            ]
          },
          "metadata": {
            "tags": []
          },
          "execution_count": 12
        }
      ]
    },
    {
      "cell_type": "code",
      "metadata": {
        "id": "DQKERyPy7wGD",
        "colab": {
          "base_uri": "https://localhost:8080/"
        },
        "outputId": "dab2cfd7-fcd8-4cec-a385-7e05145011de"
      },
      "source": [
        "d = np.array([[1, 2, 3], [4, 5, 6], [7, 8, 9]])\n",
        "print(d)"
      ],
      "execution_count": null,
      "outputs": [
        {
          "output_type": "stream",
          "text": [
            "[[1 2 3]\n",
            " [4 5 6]\n",
            " [7 8 9]]\n"
          ],
          "name": "stdout"
        }
      ]
    },
    {
      "cell_type": "code",
      "metadata": {
        "id": "DbHcDRHv8NXE",
        "colab": {
          "base_uri": "https://localhost:8080/"
        },
        "outputId": "19fd1000-4f58-4e4e-ba25-8a26c891dd8b"
      },
      "source": [
        "# Tạo mảng 5 hàng 3 cột bằng các số 0\n",
        "e = np.zeros((5, 3))\n",
        "print(e)"
      ],
      "execution_count": null,
      "outputs": [
        {
          "output_type": "stream",
          "text": [
            "[[0. 0. 0.]\n",
            " [0. 0. 0.]\n",
            " [0. 0. 0.]\n",
            " [0. 0. 0.]\n",
            " [0. 0. 0.]]\n"
          ],
          "name": "stdout"
        }
      ]
    },
    {
      "cell_type": "code",
      "metadata": {
        "id": "Sfy8mDBn9ASY",
        "colab": {
          "base_uri": "https://localhost:8080/"
        },
        "outputId": "ea82913d-3f4d-456f-f7c5-6dff68412283"
      },
      "source": [
        "# Tạo mảng 3 dòng 4 cột bằng các số 1\n",
        "f = np.ones((3,4))\n",
        "print(f)"
      ],
      "execution_count": null,
      "outputs": [
        {
          "output_type": "stream",
          "text": [
            "[[1. 1. 1. 1.]\n",
            " [1. 1. 1. 1.]\n",
            " [1. 1. 1. 1.]]\n"
          ],
          "name": "stdout"
        }
      ]
    },
    {
      "cell_type": "code",
      "metadata": {
        "id": "H6xJO6rW9UjQ",
        "colab": {
          "base_uri": "https://localhost:8080/"
        },
        "outputId": "2935bcd4-35fe-4129-f068-9a17893a26cc"
      },
      "source": [
        "g = np.array([[1., 2, 3], [4, 5, 6]], dtype=np.int16)\n",
        "print(g)"
      ],
      "execution_count": null,
      "outputs": [
        {
          "output_type": "stream",
          "text": [
            "[[1 2 3]\n",
            " [4 5 6]]\n"
          ],
          "name": "stdout"
        }
      ]
    },
    {
      "cell_type": "code",
      "metadata": {
        "id": "t7iJ50zB-inC",
        "colab": {
          "base_uri": "https://localhost:8080/",
          "height": 35
        },
        "outputId": "924f6cf6-26ae-4926-cc9d-272d5169bcaf"
      },
      "source": [
        "g.dtype.name"
      ],
      "execution_count": null,
      "outputs": [
        {
          "output_type": "execute_result",
          "data": {
            "application/vnd.google.colaboratory.intrinsic+json": {
              "type": "string"
            },
            "text/plain": [
              "'int16'"
            ]
          },
          "metadata": {
            "tags": []
          },
          "execution_count": 17
        }
      ]
    },
    {
      "cell_type": "markdown",
      "metadata": {
        "id": "G7fs_ML7Dgob"
      },
      "source": [
        "### Mảng ba chiều"
      ]
    },
    {
      "cell_type": "code",
      "metadata": {
        "id": "i15kV4RTDfzp",
        "colab": {
          "base_uri": "https://localhost:8080/"
        },
        "outputId": "b984a518-cc09-414e-f0f2-bf10c5945bc7"
      },
      "source": [
        "# x đối tượng, y đối tượng trong x, z đối tượng trong y\n",
        "h = np.zeros((2, 2, 2))\n",
        "print(h)"
      ],
      "execution_count": null,
      "outputs": [
        {
          "output_type": "stream",
          "text": [
            "[[[0. 0.]\n",
            "  [0. 0.]]\n",
            "\n",
            " [[0. 0.]\n",
            "  [0. 0.]]]\n"
          ],
          "name": "stdout"
        }
      ]
    },
    {
      "cell_type": "code",
      "metadata": {
        "id": "z0h2m1leF1Wv",
        "colab": {
          "base_uri": "https://localhost:8080/"
        },
        "outputId": "e7d8ea29-7434-469c-cdbf-4500a670d56d"
      },
      "source": [
        "i = np.ones((3,4,5))\n",
        "print(i)"
      ],
      "execution_count": null,
      "outputs": [
        {
          "output_type": "stream",
          "text": [
            "[[[1. 1. 1. 1. 1.]\n",
            "  [1. 1. 1. 1. 1.]\n",
            "  [1. 1. 1. 1. 1.]\n",
            "  [1. 1. 1. 1. 1.]]\n",
            "\n",
            " [[1. 1. 1. 1. 1.]\n",
            "  [1. 1. 1. 1. 1.]\n",
            "  [1. 1. 1. 1. 1.]\n",
            "  [1. 1. 1. 1. 1.]]\n",
            "\n",
            " [[1. 1. 1. 1. 1.]\n",
            "  [1. 1. 1. 1. 1.]\n",
            "  [1. 1. 1. 1. 1.]\n",
            "  [1. 1. 1. 1. 1.]]]\n"
          ],
          "name": "stdout"
        }
      ]
    },
    {
      "cell_type": "code",
      "metadata": {
        "id": "7GuKG3PYGCOT"
      },
      "source": [
        "from numpy import pi"
      ],
      "execution_count": null,
      "outputs": []
    },
    {
      "cell_type": "code",
      "metadata": {
        "id": "-VekKHV6GEuo",
        "colab": {
          "base_uri": "https://localhost:8080/"
        },
        "outputId": "862e0894-ad8b-41ed-a03a-39245efefbdc"
      },
      "source": [
        "# Tạo mảng gồm 5 phần tử, từ 1 đến 10\n",
        "j = np.linspace(1, 10, 5)\n",
        "# Tạo mảng gồm 20 phần tử, từ 1 đến 10\n",
        "k = np.linspace(1, 10, 10)\n",
        "print(j)\n",
        "print(k)"
      ],
      "execution_count": null,
      "outputs": [
        {
          "output_type": "stream",
          "text": [
            "[ 1.    3.25  5.5   7.75 10.  ]\n",
            "[ 1.  2.  3.  4.  5.  6.  7.  8.  9. 10.]\n"
          ],
          "name": "stdout"
        }
      ]
    },
    {
      "cell_type": "code",
      "metadata": {
        "id": "yQGyWeevHFCc",
        "colab": {
          "base_uri": "https://localhost:8080/"
        },
        "outputId": "201d867e-38cf-480c-a358-e936c31b0c6c"
      },
      "source": [
        "# Tạo mảng bằng cách tính sin từng phần tử tương ứng\n",
        "l = np.sin(k)\n",
        "print(l)"
      ],
      "execution_count": null,
      "outputs": [
        {
          "output_type": "stream",
          "text": [
            "[ 0.84147098  0.90929743  0.14112001 -0.7568025  -0.95892427 -0.2794155\n",
            "  0.6569866   0.98935825  0.41211849 -0.54402111]\n"
          ],
          "name": "stdout"
        }
      ]
    },
    {
      "cell_type": "markdown",
      "metadata": {
        "id": "RXISvL6N5ed8"
      },
      "source": [
        "## Basic Operations"
      ]
    },
    {
      "cell_type": "markdown",
      "metadata": {
        "id": "1_CaomZvKaD4"
      },
      "source": [
        "- Tạo mảng ngẫu nhiên\n",
        "- Cộng, trừ, nhân, chia hai ma trận (*từng phần tử - elementwise*)\n",
        "- Nhân phân phối (*product*) hai ma trận\n",
        "- Tính tổng, giá trị lớn nhất, nhỏ nhất"
      ]
    },
    {
      "cell_type": "code",
      "metadata": {
        "id": "qxf-g6nyH8sU",
        "colab": {
          "base_uri": "https://localhost:8080/"
        },
        "outputId": "aca0d564-0f48-4570-d964-7fa12b7baa55"
      },
      "source": [
        "# Tạo mảng ngẫu nhiên các số nguyên từ 1 đến 10\n",
        "# Dưới dạng mảng 2 dòng 3 cột\n",
        "a = np.random.randint(1, 10, (3, 3))\n",
        "b = np.random.randint(1, 10, (3, 3))\n",
        "print(a)\n",
        "print(b)"
      ],
      "execution_count": null,
      "outputs": [
        {
          "output_type": "stream",
          "text": [
            "[[2 7 5]\n",
            " [6 7 4]\n",
            " [9 2 9]]\n",
            "[[2 7 5]\n",
            " [7 7 8]\n",
            " [1 5 4]]\n"
          ],
          "name": "stdout"
        }
      ]
    },
    {
      "cell_type": "code",
      "metadata": {
        "id": "TCysOJSJIViF",
        "colab": {
          "base_uri": "https://localhost:8080/"
        },
        "outputId": "6a4e92a2-7eae-4a96-86c6-e18d98a84f1b"
      },
      "source": [
        "# Phép nhân hai ma trận, nhân từng phần tử tương ứng\n",
        "c = a * b\n",
        "print(c)"
      ],
      "execution_count": null,
      "outputs": [
        {
          "output_type": "stream",
          "text": [
            "[[ 4 49 25]\n",
            " [42 49 32]\n",
            " [ 9 10 36]]\n"
          ],
          "name": "stdout"
        }
      ]
    },
    {
      "cell_type": "code",
      "metadata": {
        "id": "i5-S9lCsJBnh",
        "colab": {
          "base_uri": "https://localhost:8080/"
        },
        "outputId": "b43491ee-5237-4d7b-80f9-a0802129fef2"
      },
      "source": [
        "# Bình phương các phần tử trong ma trận\n",
        "d = a ** 2\n",
        "print(d)"
      ],
      "execution_count": null,
      "outputs": [
        {
          "output_type": "stream",
          "text": [
            "[[ 4 49 25]\n",
            " [36 49 16]\n",
            " [81  4 81]]\n"
          ],
          "name": "stdout"
        }
      ]
    },
    {
      "cell_type": "code",
      "metadata": {
        "id": "zHrmmN6iJM0M",
        "colab": {
          "base_uri": "https://localhost:8080/"
        },
        "outputId": "b6ff628c-ab67-48c1-998b-6fe0c283623b"
      },
      "source": [
        "# Phép nhân hai ma trận, các ma trận phải là hình vuông\n",
        "e = a @ b\n",
        "print(e)"
      ],
      "execution_count": null,
      "outputs": [
        {
          "output_type": "stream",
          "text": [
            "[[ 58  88  86]\n",
            " [ 65 111 102]\n",
            " [ 41 122  97]]\n"
          ],
          "name": "stdout"
        }
      ]
    },
    {
      "cell_type": "code",
      "metadata": {
        "id": "aRq-QUWoKGAr",
        "colab": {
          "base_uri": "https://localhost:8080/"
        },
        "outputId": "b266ee4d-07dc-4e9d-cb53-f4c36248b0d2"
      },
      "source": [
        "# Giống a @ b\n",
        "f = a.dot(b)\n",
        "print(f)"
      ],
      "execution_count": null,
      "outputs": [
        {
          "output_type": "stream",
          "text": [
            "[[ 58  88  86]\n",
            " [ 65 111 102]\n",
            " [ 41 122  97]]\n"
          ],
          "name": "stdout"
        }
      ]
    },
    {
      "cell_type": "code",
      "metadata": {
        "id": "beHcTpowLIEP",
        "colab": {
          "base_uri": "https://localhost:8080/"
        },
        "outputId": "bf1aac8b-fe59-4ca3-c2bd-463519e6cec2"
      },
      "source": [
        "print('Tổng các phần tử trong mảng a: ', a.sum())"
      ],
      "execution_count": null,
      "outputs": [
        {
          "output_type": "stream",
          "text": [
            "Tổng các phần tử trong mảng:  51\n"
          ],
          "name": "stdout"
        }
      ]
    },
    {
      "cell_type": "code",
      "metadata": {
        "id": "Cj7cEgJALS87",
        "colab": {
          "base_uri": "https://localhost:8080/"
        },
        "outputId": "06a79098-f81f-44ad-99f5-ad1f4ea90ec6"
      },
      "source": [
        "print('GTLN của a: ', a.max())\n",
        "print('GTNN của a: ', a.min())"
      ],
      "execution_count": null,
      "outputs": [
        {
          "output_type": "stream",
          "text": [
            "GTLN của a:  9\n",
            "GTNN của a:  2\n"
          ],
          "name": "stdout"
        }
      ]
    },
    {
      "cell_type": "code",
      "metadata": {
        "id": "U6AvE6gtLgkj",
        "colab": {
          "base_uri": "https://localhost:8080/"
        },
        "outputId": "5e074be8-f4b8-46e7-8db4-79f5efdc0d47"
      },
      "source": [
        "# Cộng tích lũy và nhân tích lũy\n",
        "g = b.cumsum()\n",
        "h = b.cumprod()\n",
        "print(g)\n",
        "print(h)"
      ],
      "execution_count": null,
      "outputs": [
        {
          "output_type": "stream",
          "text": [
            "[ 2  9 14 21 28 36 37 42 46]\n",
            "[     2     14     70    490   3430  27440  27440 137200 548800]\n"
          ],
          "name": "stdout"
        }
      ]
    },
    {
      "cell_type": "markdown",
      "metadata": {
        "id": "L1gaiNVkMLll"
      },
      "source": [
        "### Other functions"
      ]
    },
    {
      "cell_type": "markdown",
      "metadata": {
        "id": "xGIUdFp3OQEF"
      },
      "source": [
        "- Sắp xếp mảng\n",
        "- Chỉ mục (index), cắt (slice) và lặp (iterate)"
      ]
    },
    {
      "cell_type": "code",
      "metadata": {
        "id": "ompw-MOZMN3k",
        "colab": {
          "base_uri": "https://localhost:8080/"
        },
        "outputId": "0c3724dd-bba2-4e95-dc0e-bb867a3ea057"
      },
      "source": [
        "a = np.random.randint(1, 10, (4, 4))\n",
        "print(a)"
      ],
      "execution_count": null,
      "outputs": [
        {
          "output_type": "stream",
          "text": [
            "[[4 3 9 3]\n",
            " [4 8 7 9]\n",
            " [6 1 1 5]\n",
            " [8 5 7 4]]\n"
          ],
          "name": "stdout"
        }
      ]
    },
    {
      "cell_type": "code",
      "metadata": {
        "id": "P7ra2R4AMVbI",
        "colab": {
          "base_uri": "https://localhost:8080/"
        },
        "outputId": "2e8e7f99-c34e-4fd6-8ff4-e009fb21a5db"
      },
      "source": [
        "# Sắp xếp mảng\n",
        "b = np.sort(a)\n",
        "print(b)"
      ],
      "execution_count": null,
      "outputs": [
        {
          "output_type": "stream",
          "text": [
            "[[3 6 7 9]\n",
            " [2 2 7 7]\n",
            " [1 2 4 8]\n",
            " [3 6 7 7]]\n"
          ],
          "name": "stdout"
        }
      ]
    },
    {
      "cell_type": "code",
      "metadata": {
        "id": "exv2U2f1OZ0u",
        "colab": {
          "base_uri": "https://localhost:8080/"
        },
        "outputId": "e40371d9-dcaa-4e0d-906d-57f2ceee4b3e"
      },
      "source": [
        "\n",
        "a[2, 3]"
      ],
      "execution_count": null,
      "outputs": [
        {
          "output_type": "execute_result",
          "data": {
            "text/plain": [
              "5"
            ]
          },
          "metadata": {
            "tags": []
          },
          "execution_count": 48
        }
      ]
    },
    {
      "cell_type": "code",
      "metadata": {
        "id": "NFwYAkN-M4ee",
        "colab": {
          "base_uri": "https://localhost:8080/"
        },
        "outputId": "09c11086-3a5d-4b71-afc5-5d16bac3bc43"
      },
      "source": [
        "# Lấy dòng thứ 2 [start:end]\n",
        "a[2:3]"
      ],
      "execution_count": null,
      "outputs": [
        {
          "output_type": "execute_result",
          "data": {
            "text/plain": [
              "array([[1, 2, 4, 8]])"
            ]
          },
          "metadata": {
            "tags": []
          },
          "execution_count": 42
        }
      ]
    },
    {
      "cell_type": "code",
      "metadata": {
        "id": "IiPhZz56NXSK",
        "colab": {
          "base_uri": "https://localhost:8080/"
        },
        "outputId": "01ba1b52-900d-4cd0-a409-7e04cd229a96"
      },
      "source": [
        "# Có bước nhảy khi lấy[start:end:step]\n",
        "a[0:3:2]"
      ],
      "execution_count": null,
      "outputs": [
        {
          "output_type": "execute_result",
          "data": {
            "text/plain": [
              "array([[3, 6, 7, 9],\n",
              "       [1, 2, 4, 8]])"
            ]
          },
          "metadata": {
            "tags": []
          },
          "execution_count": 44
        }
      ]
    },
    {
      "cell_type": "code",
      "metadata": {
        "id": "W_yo0W6UPAVn",
        "colab": {
          "base_uri": "https://localhost:8080/"
        },
        "outputId": "440c803c-0534-4a7d-825f-e4b9147892e1"
      },
      "source": [
        "# Lấy dòng thứ 2 và 3\n",
        "a[1:3, : ]"
      ],
      "execution_count": null,
      "outputs": [
        {
          "output_type": "execute_result",
          "data": {
            "text/plain": [
              "array([[4, 8, 7, 9],\n",
              "       [6, 1, 1, 5]])"
            ]
          },
          "metadata": {
            "tags": []
          },
          "execution_count": 49
        }
      ]
    },
    {
      "cell_type": "code",
      "metadata": {
        "id": "TCzf-BIgPS4I",
        "colab": {
          "base_uri": "https://localhost:8080/"
        },
        "outputId": "09a25b24-68e5-4f92-e11b-8dfb78ea6b8e"
      },
      "source": [
        "# Lấy dòng từ dưới lên\n",
        "a[-1, :]"
      ],
      "execution_count": null,
      "outputs": [
        {
          "output_type": "execute_result",
          "data": {
            "text/plain": [
              "array([8, 5, 7, 4])"
            ]
          },
          "metadata": {
            "tags": []
          },
          "execution_count": 50
        }
      ]
    },
    {
      "cell_type": "code",
      "metadata": {
        "id": "20ReP5UHPvSU",
        "colab": {
          "base_uri": "https://localhost:8080/"
        },
        "outputId": "9d4d0381-3e1e-427f-bed2-fef54b4e8a5e"
      },
      "source": [
        "# Làm phẳng\n",
        "a.ravel()"
      ],
      "execution_count": null,
      "outputs": [
        {
          "output_type": "execute_result",
          "data": {
            "text/plain": [
              "array([4, 3, 9, 3, 4, 8, 7, 9, 6, 1, 1, 5, 8, 5, 7, 4])"
            ]
          },
          "metadata": {
            "tags": []
          },
          "execution_count": 51
        }
      ]
    },
    {
      "cell_type": "code",
      "metadata": {
        "id": "BIO5CnTSP4wp",
        "colab": {
          "base_uri": "https://localhost:8080/"
        },
        "outputId": "6218907c-f42a-4ec7-eb2e-c6e2b69649df"
      },
      "source": [
        "# Ma trận chuyển vị\n",
        "a.T"
      ],
      "execution_count": null,
      "outputs": [
        {
          "output_type": "execute_result",
          "data": {
            "text/plain": [
              "array([[4, 4, 6, 8],\n",
              "       [3, 8, 1, 5],\n",
              "       [9, 7, 1, 7],\n",
              "       [3, 9, 5, 4]])"
            ]
          },
          "metadata": {
            "tags": []
          },
          "execution_count": 52
        }
      ]
    }
  ]
}